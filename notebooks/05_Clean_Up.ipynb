{
 "cells": [
  {
   "cell_type": "markdown",
   "metadata": {},
   "source": [
    "# V - Clean Up\n",
    "In this notebook we will deallocate the Batch pool and remove the Azure resources we created earlier.\n",
    "\n",
    "* [Setup](#section1)\n",
    "* [Deallocate pool](#section2)\n",
    "* [Delete Azure resources](#section3)"
   ]
  },
  {
   "cell_type": "markdown",
   "metadata": {},
   "source": [
    "<a id='section1'></a>"
   ]
  },
  {
   "cell_type": "markdown",
   "metadata": {},
   "source": [
    "## Setup"
   ]
  },
  {
   "cell_type": "markdown",
   "metadata": {},
   "source": [
    "Create a simple alias for Batch Shipyard"
   ]
  },
  {
   "cell_type": "code",
   "execution_count": 7,
   "metadata": {
    "collapsed": true
   },
   "outputs": [],
   "source": [
    "%alias shipyard SHIPYARD_CONFIGDIR=config python /home/nbuser/batch-shipyard/shipyard.py $*"
   ]
  },
  {
   "cell_type": "markdown",
   "metadata": {},
   "source": [
    "Check that everything is working"
   ]
  },
  {
   "cell_type": "code",
   "execution_count": 8,
   "metadata": {
    "collapsed": false
   },
   "outputs": [
    {
     "name": "stdout",
     "output_type": "stream",
     "text": [
      "Usage: shipyard.py [OPTIONS] COMMAND [ARGS]...\r\n",
      "\r\n",
      "  Batch Shipyard: Provision and Execute Docker Workloads on Azure Batch\r\n",
      "\r\n",
      "Options:\r\n",
      "  --version   Show the version and exit.\r\n",
      "  -h, --help  Show this message and exit.\r\n",
      "\r\n",
      "Commands:\r\n",
      "  cert      Certificate actions\r\n",
      "  data      Data actions\r\n",
      "  fs        Filesystem in Azure actions\r\n",
      "  jobs      Jobs actions\r\n",
      "  keyvault  KeyVault actions\r\n",
      "  misc      Miscellaneous actions\r\n",
      "  pool      Pool actions\r\n",
      "  storage   Storage actions\r\n"
     ]
    }
   ],
   "source": [
    "shipyard"
   ]
  },
  {
   "cell_type": "markdown",
   "metadata": {},
   "source": [
    "<a id='section2'></a>"
   ]
  },
  {
   "cell_type": "markdown",
   "metadata": {},
   "source": [
    "## Deallocate pool"
   ]
  },
  {
   "cell_type": "markdown",
   "metadata": {},
   "source": [
    "To deallocate the VM simply execute the command below. If you do not the VM will be running idle and you will continue to incur charges."
   ]
  },
  {
   "cell_type": "code",
   "execution_count": 9,
   "metadata": {
    "collapsed": false
   },
   "outputs": [
    {
     "name": "stdout",
     "output_type": "stream",
     "text": [
      "2017-06-21 15:56:25,957 WARNING - DEPRECATION WARNING: pool_specification:publisher/offer/sku is set instead of a vm_configuration complex property. This configuration will not be supported in future releases. Please update your configuration to include a vm_configuration property.\n",
      "2017-06-21 15:56:25,965 INFO - Deleting pool: gpupool-multi-instance\n",
      "2017-06-21 15:56:26,220 ERROR - {'lang': u'en-US', 'value': u'The specified pool does not exist.\\nRequestId:b203b1d6-e3f1-41e1-adba-e11b60762d18\\nTime:2017-06-21T15:56:25.6416762Z'}\n",
      "Traceback (most recent call last):\n",
      "  File \"/home/nbuser/batch-shipyard/convoy/fleet.py\", line 2039, in action_pool_delete\n",
      "    deleted = batch.del_pool(batch_client, config, pool_id=pool_id)\n",
      "  File \"/home/nbuser/batch-shipyard/convoy/batch.py\", line 704, in del_pool\n",
      "    batch_client.pool.delete(pool_id)\n",
      "  File \"/home/nbuser/anaconda2_410/lib/python2.7/site-packages/azure/batch/operations/pool_operations.py\", line 522, in delete\n",
      "    raise models.BatchErrorException(self._deserialize, response)\n",
      "BatchErrorException: {'lang': u'en-US', 'value': u'The specified pool does not exist.\\nRequestId:b203b1d6-e3f1-41e1-adba-e11b60762d18\\nTime:2017-06-21T15:56:25.6416762Z'}\n",
      "2017-06-21 15:56:26,223 DEBUG - clearing table (pk=batcha3dc41fdba$gpupool-multi-instance): shipyardregistry\n",
      "2017-06-21 15:56:26,453 DEBUG - clearing table (pk=batcha3dc41fdba$gpupool-multi-instance): shipyardgr\n",
      "2017-06-21 15:56:26,498 DEBUG - clearing table (pk=batcha3dc41fdba$gpupool-multi-instance): shipyardperf\n",
      "2017-06-21 15:56:26,543 DEBUG - clearing table (pk=batcha3dc41fdba$gpupool-multi-instance): shipyarddht\n",
      "2017-06-21 15:56:26,591 DEBUG - clearing table (pk=batcha3dc41fdba$gpupool-multi-instance): shipyardimages\n",
      "2017-06-21 15:56:26,636 DEBUG - clearing table (pk=batcha3dc41fdba$gpupool-multi-instance): shipyardtorrentinfo\n",
      "2017-06-21 15:56:26,685 DEBUG - deleting queue: shipyardgr-batcha3dc41fdba-gpupool-multi-instance\n",
      "2017-06-21 15:56:26,898 DEBUG - deleting container: shipyardtor-batcha3dc41fdba-gpupool-multi-instance\n",
      "2017-06-21 15:56:27,229 DEBUG - deleting container: shipyardrf-batcha3dc41fdba-gpupool-multi-instance\n",
      "2017-06-21 15:56:27,274 DEBUG - waiting for pool gpupool-multi-instance to delete\n"
     ]
    }
   ],
   "source": [
    "shipyard pool del -y --wait"
   ]
  },
  {
   "cell_type": "markdown",
   "metadata": {},
   "source": [
    "<a id='section3'></a>"
   ]
  },
  {
   "cell_type": "markdown",
   "metadata": {},
   "source": [
    "## Delete Azure resources\n",
    "Once you have deleted the pool all that remains is the storage account and the Batch account.\n",
    "\n",
    "Note that you do not need to delete your batch and storage accounts.\n",
    "- You will only be billed in Batch for pools for compute node time and data egress. If you do not have any active pools with nodes in them, you will not be billed for anything.\n",
    "- Storage costs include data stored in blobs and transactions. For the examples in these notebooks, the cost will be very small.\n",
    "\n",
    "However, if you wish to delete your accounts, you can do so by deleting the resource group containing the accounts. First retrieve the Resource Group name from the information we stored earlier:"
   ]
  },
  {
   "cell_type": "code",
   "execution_count": 10,
   "metadata": {
    "collapsed": true
   },
   "outputs": [],
   "source": [
    "import json\n",
    "\n",
    "def read_json(filename):\n",
    "    with open(filename, 'r') as infile:\n",
    "        return json.load(infile)\n",
    "\n",
    "account_info = read_json('account_information.json')\n",
    "\n",
    "GROUP_NAME = account_info['resource_group']"
   ]
  },
  {
   "cell_type": "markdown",
   "metadata": {},
   "source": [
    "Issue the resoure group delete command:"
   ]
  },
  {
   "cell_type": "code",
   "execution_count": 11,
   "metadata": {
    "collapsed": false
   },
   "outputs": [
    {
     "name": "stdout",
     "output_type": "stream",
     "text": [
      "\u001b[K - Finished .."
     ]
    }
   ],
   "source": [
    "!az group delete -n $GROUP_NAME --yes --verbose"
   ]
  },
  {
   "cell_type": "markdown",
   "metadata": {},
   "source": [
    "Ensure the resource group has been deleted:"
   ]
  },
  {
   "cell_type": "code",
   "execution_count": 12,
   "metadata": {
    "collapsed": false
   },
   "outputs": [],
   "source": [
    "!az group show -n $GROUP_NAME --verbose"
   ]
  },
  {
   "cell_type": "markdown",
   "metadata": {},
   "source": [
    "Alternatively, you can delete the resource group `GROUP_NAME` from the [Azure Portal](https://portal.azure.com)."
   ]
  },
  {
   "cell_type": "code",
   "execution_count": null,
   "metadata": {
    "collapsed": true
   },
   "outputs": [],
   "source": []
  }
 ],
 "metadata": {
  "kernelspec": {
   "display_name": "Python 2",
   "language": "python",
   "name": "python2"
  },
  "language_info": {
   "codemirror_mode": {
    "name": "ipython",
    "version": 2
   },
   "file_extension": ".py",
   "mimetype": "text/x-python",
   "name": "python",
   "nbconvert_exporter": "python",
   "pygments_lexer": "ipython2",
   "version": "2.7.11"
  }
 },
 "nbformat": 4,
 "nbformat_minor": 2
}
