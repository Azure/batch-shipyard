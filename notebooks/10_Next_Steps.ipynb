{
 "cells": [
  {
   "cell_type": "markdown",
   "metadata": {
    "collapsed": true
   },
   "source": [
    "# X - Next Steps and Resources\n",
    "\n",
    "## Batch Shipyard\n",
    "The [Batch Shipyard GitHub repo](https://github.com/Azure/batch-shipyard) contains documentation and other guides to help deploy your particular scenario to the cloud.\n",
    "\n",
    "There are many [recipes available](https://github.com/Azure/batch-shipyard/tree/master/recipes) for nearly all of the well-known deep learning frameworks.\n",
    "\n",
    "Please check the [repository for release updates](https://github.com/Azure/batch-shipyard/blob/master/CHANGELOG.md) so you can stay on top of additional features and bugfixes.\n",
    "\n",
    "If you need assistance, please post your issue to the [issues page](https://github.com/Azure/batch-shipyard/issues).\n",
    "\n",
    "## Azure Batch\n",
    "[Azure Batch](https://azure.microsoft.com/en-us/services/batch/) is the underlying service that powers Batch Shipyard. You can learn more about Batch via the [learning path](https://azure.microsoft.com/en-us/documentation/learning-paths/batch/) and [sample code](https://github.com/Azure/azure-batch-samples).\n",
    "\n",
    "#### Increase Batch Account Core Quota\n",
    "As your workload scales, you may find that you need increased core quota. For normal Batch accounts (i.e., not User Subscription) Batch accounts, core quota is controlled separately than that of the subscription. You can increase core quota for these accounts following [these steps](https://docs.microsoft.com/en-us/azure/batch/batch-quota-limit#increase-a-quota).\n",
    "\n",
    "####  Create \"User Susbscription\" Batch Accounts\n",
    "To create a \"User Subscription\" Batch Account which will allow advanced scenarios such as \"bring your own virtual network\" or deploy VMs with custom images, please see [this documentation](https://docs.microsoft.com/en-us/azure/batch/batch-account-create-portal#user-subscription-mode) on how to create such accounts.\n",
    "\n",
    "## Tools and User Interfaces\n",
    "### Azure Portal\n",
    "[Azure Portal](https://portal.azure.com) is the central location to manage all of your Azure resources, including Azure Batch resources.\n",
    "\n",
    "### Batch Labs\n",
    "[Batch Labs](https://github.com/Azure/BatchLabs) is a cross-platform UI that can help you monitor and debug your Batch pools, jobs and tasks.\n",
    "\n",
    "### blobxfer\n",
    "[blobxfer](https://github.com/Azure/blobxfer) is a cross-platform file transfer tool for Azure Storage blobs and file shares.\n",
    "\n",
    "### AzCopy\n",
    "[AzCopy](https://docs.microsoft.com/en-us/azure/storage/storage-use-azcopy) is a Windows-only file transfer tool for all Azure Storage entities.\n",
    "\n",
    "### Microsoft Storage Explorer\n",
    "[Microsoft Storage Explorer](http://storageexplorer.com/) is a cross-platform UI for managing your Azure Storage resources."
   ]
  }
 ],
 "metadata": {
  "kernelspec": {
   "display_name": "Python 2",
   "language": "python",
   "name": "python2"
  },
  "language_info": {
   "codemirror_mode": {
    "name": "ipython",
    "version": 2
   },
   "file_extension": ".py",
   "mimetype": "text/x-python",
   "name": "python",
   "nbconvert_exporter": "python",
   "pygments_lexer": "ipython2",
   "version": "2.7.11"
  }
 },
 "nbformat": 4,
 "nbformat_minor": 2
}
