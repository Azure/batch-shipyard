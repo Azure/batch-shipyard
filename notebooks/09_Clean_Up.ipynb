{
 "cells": [
  {
   "cell_type": "markdown",
   "metadata": {},
   "source": [
    "# IX - Clean Up\n",
    "In this notebook we will deallocate the Batch pool and remove the Azure resources we created earlier.\n",
    "\n",
    "* [Setup](#section1)\n",
    "* [Deallocate pool](#section2)\n",
    "* [Delete Azure resources](#section3)"
   ]
  },
  {
   "cell_type": "markdown",
   "metadata": {},
   "source": [
    "<a id='section1'></a>"
   ]
  },
  {
   "cell_type": "markdown",
   "metadata": {},
   "source": [
    "## Setup"
   ]
  },
  {
   "cell_type": "markdown",
   "metadata": {},
   "source": [
    "Create a simple alias for Batch Shipyard"
   ]
  },
  {
   "cell_type": "code",
   "execution_count": 1,
   "metadata": {
    "collapsed": true
   },
   "outputs": [],
   "source": [
    "%alias shipyard SHIPYARD_CONFIGDIR=config python /home/nbuser/batch-shipyard/shipyard.py $*"
   ]
  },
  {
   "cell_type": "markdown",
   "metadata": {},
   "source": [
    "Check that everything is working"
   ]
  },
  {
   "cell_type": "code",
   "execution_count": 2,
   "metadata": {
    "collapsed": false
   },
   "outputs": [
    {
     "name": "stdout",
     "output_type": "stream",
     "text": [
      "Usage: shipyard.py [OPTIONS] COMMAND [ARGS]...\r\n",
      "\r\n",
      "  Batch Shipyard: Provision and Execute Docker Workloads on Azure Batch\r\n",
      "\r\n",
      "Options:\r\n",
      "  --version   Show the version and exit.\r\n",
      "  -h, --help  Show this message and exit.\r\n",
      "\r\n",
      "Commands:\r\n",
      "  cert      Certificate actions\r\n",
      "  data      Data actions\r\n",
      "  fs        Filesystem in Azure actions\r\n",
      "  jobs      Jobs actions\r\n",
      "  keyvault  KeyVault actions\r\n",
      "  misc      Miscellaneous actions\r\n",
      "  pool      Pool actions\r\n",
      "  storage   Storage actions\r\n"
     ]
    }
   ],
   "source": [
    "shipyard"
   ]
  },
  {
   "cell_type": "markdown",
   "metadata": {},
   "source": [
    "<a id='section2'></a>"
   ]
  },
  {
   "cell_type": "markdown",
   "metadata": {},
   "source": [
    "## Deallocate pool"
   ]
  },
  {
   "cell_type": "markdown",
   "metadata": {},
   "source": [
    "To deallocate the VM simply execute the command below. If you do not the VM will be running idle and you will continue to incur charges. "
   ]
  },
  {
   "cell_type": "code",
   "execution_count": 3,
   "metadata": {
    "collapsed": false
   },
   "outputs": [
    {
     "name": "stdout",
     "output_type": "stream",
     "text": [
      "2017-07-12 14:57:05,318 INFO - Deleting pool: gpupool\n",
      "2017-07-12 14:57:05,551 ERROR - {'lang': u'en-US', 'value': u'The specified pool does not exist.\\nRequestId:a6b8b864-c465-4032-bdd0-76250c11851d\\nTime:2017-07-12T14:57:05.2140538Z'}\n",
      "Traceback (most recent call last):\n",
      "  File \"/home/nbuser/batch-shipyard/convoy/fleet.py\", line 2067, in action_pool_delete\n",
      "    deleted = batch.del_pool(batch_client, config, pool_id=pool_id)\n",
      "  File \"/home/nbuser/batch-shipyard/convoy/batch.py\", line 788, in del_pool\n",
      "    batch_client.pool.delete(pool_id)\n",
      "  File \"/home/nbuser/anaconda2_410/lib/python2.7/site-packages/azure/batch/operations/pool_operations.py\", line 522, in delete\n",
      "    raise models.BatchErrorException(self._deserialize, response)\n",
      "BatchErrorException: {'lang': u'en-US', 'value': u'The specified pool does not exist.\\nRequestId:a6b8b864-c465-4032-bdd0-76250c11851d\\nTime:2017-07-12T14:57:05.2140538Z'}\n",
      "2017-07-12 14:57:05,553 DEBUG - clearing table (pk=batch0e43a94eba$gpupool): shipyardregistry\n",
      "2017-07-12 14:57:05,921 DEBUG - clearing table (pk=batch0e43a94eba$gpupool): shipyardgr\n",
      "2017-07-12 14:57:05,970 DEBUG - clearing table (pk=batch0e43a94eba$gpupool): shipyardperf\n",
      "2017-07-12 14:57:06,018 DEBUG - clearing table (pk=batch0e43a94eba$gpupool): shipyarddht\n",
      "2017-07-12 14:57:06,068 DEBUG - clearing table (pk=batch0e43a94eba$gpupool): shipyardimages\n",
      "2017-07-12 14:57:06,118 DEBUG - clearing table (pk=batch0e43a94eba$gpupool): shipyardtorrentinfo\n",
      "2017-07-12 14:57:06,169 DEBUG - deleting queue: shipyardgr-batch0e43a94eba-gpupool\n",
      "2017-07-12 14:57:06,402 DEBUG - deleting container: shipyardtor-batch0e43a94eba-gpupool\n",
      "2017-07-12 14:57:06,628 DEBUG - deleting container: shipyardrf-batch0e43a94eba-gpupool\n",
      "2017-07-12 14:57:06,673 DEBUG - waiting for pool gpupool to delete\n"
     ]
    }
   ],
   "source": [
    "shipyard pool del -y --wait"
   ]
  },
  {
   "cell_type": "markdown",
   "metadata": {},
   "source": [
    "<a id='section3'></a>"
   ]
  },
  {
   "cell_type": "markdown",
   "metadata": {},
   "source": [
    "## Delete Azure resources\n",
    "Once you have deleted the pool all that remains is the storage account and the Batch account.\n",
    "\n",
    "Note that you do not need to delete your batch and storage accounts.\n",
    "- You will only be billed in Batch for pools for compute node time and data egress. If you do not have any active pools with nodes in them, you will not be billed for anything.\n",
    "- Storage costs include data stored in blobs and transactions. For the examples in these notebooks, the cost will be very small.\n",
    "\n",
    "However, if you wish to delete your accounts, you can do so by deleting the resource group containing the accounts. First retrieve the Resource Group name from the information we stored earlier:"
   ]
  },
  {
   "cell_type": "code",
   "execution_count": 3,
   "metadata": {
    "collapsed": true
   },
   "outputs": [],
   "source": [
    "import json\n",
    "\n",
    "def read_json(filename):\n",
    "    with open(filename, 'r') as infile:\n",
    "        return json.load(infile)\n",
    "\n",
    "account_info = read_json('account_information.json')\n",
    "\n",
    "GROUP_NAME = account_info['resource_group']"
   ]
  },
  {
   "cell_type": "markdown",
   "metadata": {},
   "source": [
    "Issue the resoure group delete command:"
   ]
  },
  {
   "cell_type": "code",
   "execution_count": null,
   "metadata": {
    "collapsed": false
   },
   "outputs": [
    {
     "name": "stdout",
     "output_type": "stream",
     "text": [
      "\u001b[K | Finished .."
     ]
    }
   ],
   "source": [
    "!az group delete -n $GROUP_NAME --yes --verbose"
   ]
  },
  {
   "cell_type": "markdown",
   "metadata": {},
   "source": [
    "Ensure the resource group has been deleted:"
   ]
  },
  {
   "cell_type": "code",
   "execution_count": null,
   "metadata": {
    "collapsed": false
   },
   "outputs": [],
   "source": [
    "!az group show -n $GROUP_NAME --verbose"
   ]
  },
  {
   "cell_type": "markdown",
   "metadata": {},
   "source": [
    "Alternatively, you can delete the resource group `GROUP_NAME` from the [Azure Portal](https://portal.azure.com)."
   ]
  }
 ],
 "metadata": {
  "kernelspec": {
   "display_name": "Python 2",
   "language": "python",
   "name": "python2"
  },
  "language_info": {
   "codemirror_mode": {
    "name": "ipython",
    "version": 2
   },
   "file_extension": ".py",
   "mimetype": "text/x-python",
   "name": "python",
   "nbconvert_exporter": "python",
   "pygments_lexer": "ipython2",
   "version": "2.7.11"
  }
 },
 "nbformat": 4,
 "nbformat_minor": 2
}
